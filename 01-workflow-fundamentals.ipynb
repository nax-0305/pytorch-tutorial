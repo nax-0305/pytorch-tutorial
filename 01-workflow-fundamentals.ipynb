{
 "cells": [
  {
   "cell_type": "markdown",
   "id": "6634ae48-474e-42e0-b7b5-f528c3cba531",
   "metadata": {
    "jp-MarkdownHeadingCollapsed": true
   },
   "source": [
    "# 一个标准的pytorch的工作流\n",
    "\n",
    "1. 准备数据\n",
    "2. 建立or选择 **预训练模型**（选择损失函数和优化器、建立训练loop）\n",
    "3. 训练数据 （让模型在数据中，去find pattern）\n",
    "4. 测试数据 （在新数据中进行预测，make prediction）\n",
    "5. 保存新模型"
   ]
  }
 ],
 "metadata": {
  "kernelspec": {
   "display_name": "Python 3 (ipykernel)",
   "language": "python",
   "name": "python3"
  },
  "language_info": {
   "codemirror_mode": {
    "name": "ipython",
    "version": 3
   },
   "file_extension": ".py",
   "mimetype": "text/x-python",
   "name": "python",
   "nbconvert_exporter": "python",
   "pygments_lexer": "ipython3",
   "version": "3.12.4"
  }
 },
 "nbformat": 4,
 "nbformat_minor": 5
}
